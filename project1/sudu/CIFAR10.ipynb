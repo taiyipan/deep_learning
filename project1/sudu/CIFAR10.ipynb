{
  "cells": [
    {
      "cell_type": "markdown",
      "id": "2d47bcea",
      "metadata": {
        "id": "2d47bcea"
      },
      "source": [
        "# ECE-GY 7123 - Deep Learning\n",
        "# ASSIGNMENT\n",
        "## Done by: SUDHARSAN ANANTH"
      ]
    },
    {
      "cell_type": "code",
      "execution_count": null,
      "id": "d14a47ad",
      "metadata": {
        "id": "d14a47ad"
      },
      "outputs": [],
      "source": [
        "# imports\n",
        "\n",
        "import torch\n",
        "from torch import nn,optim\n",
        "import torch.nn.functional as F\n",
        "from torchvision import datasets, transforms\n",
        "\n",
        "import matplotlib.pyplot as plt\n",
        "import numpy as np\n",
        "import time"
      ]
    },
    {
      "cell_type": "code",
      "execution_count": null,
      "id": "a1ad4067",
      "metadata": {
        "id": "a1ad4067"
      },
      "outputs": [],
      "source": [
        "transform = transforms.Compose([\n",
        "    transforms.Grayscale(),\n",
        "    transforms.ToTensor(),\n",
        "    transforms.Normalize(0.5, 0.5), \n",
        "    #transforms.RandomPerspective(distortion_scale=0.10, p=0.5), # random perspective transformation with a given probability.\n",
        "    #transforms.RandomRotation(degrees=(-20,20)),\n",
        "    #transforms.RandomHorizontalFlip(p=0.5),  \n",
        "])"
      ]
    },
    {
      "cell_type": "code",
      "execution_count": null,
      "id": "4802192b",
      "metadata": {
        "colab": {
          "base_uri": "https://localhost:8080/",
          "height": 121,
          "referenced_widgets": [
            "71f6220f6e7b40869ca5a8bdc9d410ba",
            "5d308f59d21045e49677aea74f8effc2",
            "56a315e6cbe044c3bc432bacd8c442a2",
            "8faf92b06999445abfbdcec00c2ebd1c",
            "e3144950f2fa4ce6a2358a423157fabd",
            "c530b49899494b73ae85328077ad0665",
            "d1e720df327b45edaf2baf225bc79072",
            "01b1fe3c6c41442f993c48c7b01c0564",
            "fad8916799374eedba9144135bd699bc",
            "1bbe9e262d19435ca16216ec4a394a0e",
            "ee346de883ff46979ebca084b3b00bce"
          ]
        },
        "id": "4802192b",
        "outputId": "1e17fd94-1e9e-4c2b-8e52-47ad6e574ed0"
      },
      "outputs": [
        {
          "output_type": "stream",
          "name": "stdout",
          "text": [
            "Downloading https://www.cs.toronto.edu/~kriz/cifar-10-python.tar.gz to CIFAR10/cifar-10-python.tar.gz\n"
          ]
        },
        {
          "output_type": "display_data",
          "data": {
            "application/vnd.jupyter.widget-view+json": {
              "model_id": "71f6220f6e7b40869ca5a8bdc9d410ba",
              "version_minor": 0,
              "version_major": 2
            },
            "text/plain": [
              "  0%|          | 0/170498071 [00:00<?, ?it/s]"
            ]
          },
          "metadata": {}
        },
        {
          "output_type": "stream",
          "name": "stdout",
          "text": [
            "Extracting CIFAR10/cifar-10-python.tar.gz to CIFAR10\n",
            "Files already downloaded and verified\n"
          ]
        }
      ],
      "source": [
        "trainset = datasets.CIFAR10(\"CIFAR10\", train=True, transform=transform, download= True)\n",
        "testset = datasets.CIFAR10(\"CIFAR10\", train=False, transform=transform, download= True)"
      ]
    },
    {
      "cell_type": "code",
      "source": [
        " len(trainset)"
      ],
      "metadata": {
        "colab": {
          "base_uri": "https://localhost:8080/"
        },
        "id": "uY8iYc2q5Fz2",
        "outputId": "720c39ab-f2c7-4d7d-aff7-27629cf82af4"
      },
      "id": "uY8iYc2q5Fz2",
      "execution_count": null,
      "outputs": [
        {
          "output_type": "execute_result",
          "data": {
            "text/plain": [
              "50000"
            ]
          },
          "metadata": {},
          "execution_count": 4
        }
      ]
    },
    {
      "cell_type": "code",
      "execution_count": null,
      "id": "d561c614",
      "metadata": {
        "id": "d561c614"
      },
      "outputs": [],
      "source": [
        "trainloader = torch.utils.data.DataLoader(trainset, batch_size=64, shuffle=True)\n",
        "testloader = torch.utils.data.DataLoader(testset, batch_size=64, shuffle=True)"
      ]
    },
    {
      "cell_type": "code",
      "execution_count": null,
      "id": "c20c4e26",
      "metadata": {
        "colab": {
          "base_uri": "https://localhost:8080/"
        },
        "id": "c20c4e26",
        "outputId": "3fd675c4-db30-4374-ed36-a36da4b0bcbb"
      },
      "outputs": [
        {
          "output_type": "stream",
          "name": "stdout",
          "text": [
            "The size of image batch is torch.Size([64, 1, 32, 32])\n",
            "The size of label batch is torch.Size([64])\n"
          ]
        }
      ],
      "source": [
        "x,y = next(iter(trainloader))\n",
        "print(\"The size of image batch is {}\" .format(x.size()))\n",
        "print(\"The size of label batch is {}\" .format(y.size()))"
      ]
    },
    {
      "cell_type": "code",
      "execution_count": null,
      "id": "426f332f",
      "metadata": {
        "colab": {
          "base_uri": "https://localhost:8080/"
        },
        "id": "426f332f",
        "outputId": "db233f9b-4ff2-41a9-b6ce-a190002ee1d9"
      },
      "outputs": [
        {
          "output_type": "stream",
          "name": "stdout",
          "text": [
            "tensor(0.6314)\n",
            "tensor(-0.7098)\n"
          ]
        }
      ],
      "source": [
        "# just to check if its normalized peoperly\n",
        "print(x[0].view(-1).max())\n",
        "print(x[0].view(-1).min())"
      ]
    },
    {
      "cell_type": "code",
      "execution_count": null,
      "id": "fea49f33",
      "metadata": {
        "colab": {
          "base_uri": "https://localhost:8080/",
          "height": 283
        },
        "id": "fea49f33",
        "outputId": "efed48ab-6b30-4aab-fd9b-8cd342d42149"
      },
      "outputs": [
        {
          "output_type": "execute_result",
          "data": {
            "text/plain": [
              "<matplotlib.image.AxesImage at 0x7f042d102a90>"
            ]
          },
          "metadata": {},
          "execution_count": 9
        },
        {
          "output_type": "display_data",
          "data": {
            "image/png": "[encoded data removed]",
            "text/plain": [
              "<Figure size 432x288 with 1 Axes>"
            ]
          },
          "metadata": {
            "needs_background": "light"
          }
        }
      ],
      "source": [
        "import matplotlib.pyplot as plt\n",
        "plt.imshow(x[3].view(32,-1),cmap=\"gray\")"
      ]
    },
    {
      "cell_type": "code",
      "execution_count": null,
      "id": "3b482b5e",
      "metadata": {
        "colab": {
          "base_uri": "https://localhost:8080/"
        },
        "id": "3b482b5e",
        "outputId": "f875e9cd-799b-4607-e55c-715cf8659c43"
      },
      "outputs": [
        {
          "output_type": "execute_result",
          "data": {
            "text/plain": [
              "False"
            ]
          },
          "metadata": {},
          "execution_count": 10
        }
      ],
      "source": [
        "torch.cuda.is_available()"
      ]
    },
    {
      "cell_type": "code",
      "execution_count": null,
      "id": "9248f0c1",
      "metadata": {
        "colab": {
          "base_uri": "https://localhost:8080/"
        },
        "id": "9248f0c1",
        "outputId": "9a5d7871-b2db-44db-b55b-5e67f31ae17c"
      },
      "outputs": [
        {
          "output_type": "execute_result",
          "data": {
            "text/plain": [
              "0"
            ]
          },
          "metadata": {},
          "execution_count": 11
        }
      ],
      "source": [
        "torch.cuda.device_count()"
      ]
    },
    {
      "cell_type": "code",
      "execution_count": null,
      "id": "e4934650",
      "metadata": {
        "id": "e4934650"
      },
      "outputs": [],
      "source": [
        "class Classifier_model(nn.Module):\n",
        "    def __init__(self):\n",
        "        super().__init__()\n",
        "        self.fc1 = nn.Linear(32*32,256)\n",
        "        self.fc2 = nn.Linear(256,128)\n",
        "        self.fc3 = nn.Linear(128,64)\n",
        "        self.fc4 = nn.Linear(64,10)\n",
        "       \n",
        "    def forward(self,x):\n",
        "        x = x.view(x.shape[0], -1) # flatten the images\n",
        "        x = F.relu(self.fc1(x)) # first fully connected dense layer\n",
        "        x = F.relu(self.fc2(x))\n",
        "        x = F.relu(self.fc3(x))\n",
        "        x = F.log_softmax(self.fc4(x), dim=1) # Output layer\n",
        "        \n",
        "        return x"
      ]
    },
    {
      "cell_type": "code",
      "execution_count": null,
      "id": "fa1151d8",
      "metadata": {
        "colab": {
          "base_uri": "https://localhost:8080/"
        },
        "id": "fa1151d8",
        "outputId": "b2dc7264-dcee-4c29-f7e0-38a91159b5e9"
      },
      "outputs": [
        {
          "output_type": "stream",
          "name": "stdout",
          "text": [
            "<bound method Module.parameters of Classifier_model(\n",
            "  (fc1): Linear(in_features=1024, out_features=256, bias=True)\n",
            "  (fc2): Linear(in_features=256, out_features=128, bias=True)\n",
            "  (fc3): Linear(in_features=128, out_features=64, bias=True)\n",
            "  (fc4): Linear(in_features=64, out_features=10, bias=True)\n",
            ")>\n"
          ]
        }
      ],
      "source": [
        "model = Classifier_model()\n",
        "loss = nn.CrossEntropyLoss()\n",
        "optimizer = optim.SGD(model.parameters(), lr=0.01)\n",
        "print(model.parameters)"
      ]
    },
    {
      "cell_type": "code",
      "execution_count": null,
      "id": "6bedfbfe",
      "metadata": {
        "id": "6bedfbfe"
      },
      "outputs": [],
      "source": [
        "def train(model, optimizer, loss_fn, train_dl, val_dl, epochs, device='cpu'):\n",
        "\n",
        "  print('train() called: model=%s, opt=%s(lr=%f), epochs=%d, device=%s\\n' % \\\n",
        "          (type(model).__name__, type(optimizer).__name__,\n",
        "           optimizer.param_groups[0]['lr'], epochs, device))\n",
        "\n",
        "  history = {}\n",
        "  history['loss'] = []\n",
        "  history['val_loss'] = []\n",
        "  history['acc'] = []\n",
        "  history['val_acc'] = []\n",
        "\n",
        "  start_time_sec = time.time()\n",
        "\n",
        "  for epoch in range(0, epochs):\n",
        "\n",
        "    # --- TRAIN AND EVALUATE ON TRAINING SET ----\n",
        "    model.train()\n",
        "    train_loss         = 0.0\n",
        "    num_train_correct  = 0\n",
        "    num_train_examples = 0\n",
        "\n",
        "    for batch in train_dl:\n",
        "\n",
        "      optimizer.zero_grad()\n",
        "\n",
        "      x = batch[0].to(device)\n",
        "      y = batch[1].to(device)\n",
        "      yhat = model(x)\n",
        "      loss = loss_fn(yhat,y)\n",
        "\n",
        "      loss.backward()\n",
        "      optimizer.step()\n",
        "\n",
        "      train_loss          += loss.data.item() *x.size(0)\n",
        "      num_train_correct   += (torch.max(yhat, 1)[1] == y).sum().item() # \n",
        "      num_train_examples  += x.shape[0]     \n",
        "\n",
        "    train_acc = num_train_correct / num_train_examples \n",
        "    train_loss = train_loss/ len(train_dl.dataset)  # len(train_dl.dataset) --> number of data integer\n",
        "\n",
        "    # ---EVALUATE ON VALIDATION SET ---\n",
        "    model.eval()\n",
        "    val_loss         = 0.0\n",
        "    num_val_correct  = 0\n",
        "    num_val_examples = 0\n",
        "\n",
        "    for batch in val_dl:\n",
        "      x = batch[0].to(device)\n",
        "      y = batch[1].to(device)\n",
        "      yhat = model(x)\n",
        "      loss = loss_fn(yhat, y)\n",
        "\n",
        "      val_loss           += loss.data.item() * x.size(0)\n",
        "      num_val_correct    += (torch.max(yhat,1)[1] == y).sum().item()\n",
        "      num_val_examples   += y.shape[0]\n",
        "\n",
        "    val_acc = num_val_correct / num_val_examples\n",
        "    val_loss = val_loss/len(val_dl.dataset)\n",
        "\n",
        "    \n",
        "    print('Epoch %3d/%3d, train loss: %5.2f, train acc: %5.2f, val loss: %5.2f, val acc: %5.2f' % \\\n",
        "              (epoch, epochs, train_loss, train_acc, val_loss, val_acc))\n",
        "    history['loss'].append(train_loss)\n",
        "    history['val_loss'].append(val_loss)\n",
        "    history['acc'].append(train_acc)\n",
        "    history['val_acc'].append(val_acc)\n",
        "\n",
        "  # END OF TRAINING LOOP\n",
        "  end_time_sec       = time.time()\n",
        "  total_time_sec     = end_time_sec - start_time_sec\n",
        "  time_per_epoch_sec = total_time_sec / epochs\n",
        "  print()\n",
        "  print('Time total:     %5.2f sec' % (total_time_sec))\n",
        "  print('Time per epoch: %5.2f sec' % (time_per_epoch_sec))\n",
        "\n",
        "  return history"
      ]
    },
    {
      "cell_type": "code",
      "execution_count": null,
      "id": "d7b545f5",
      "metadata": {
        "scrolled": true,
        "colab": {
          "base_uri": "https://localhost:8080/"
        },
        "id": "d7b545f5",
        "outputId": "b26aee33-a0ee-4d74-b12e-27b052e772f4"
      },
      "outputs": [
        {
          "output_type": "stream",
          "name": "stdout",
          "text": [
            "train() called: model=Classifier_model, opt=SGD(lr=0.010000), epochs=200, device=cpu\n",
            "\n",
            "Epoch   0/200, train loss:  2.28, train acc:  0.16, val loss:  2.25, val acc:  0.20\n",
            "Epoch   1/200, train loss:  2.19, train acc:  0.22, val loss:  2.13, val acc:  0.24\n",
            "Epoch   2/200, train loss:  2.09, train acc:  0.26, val loss:  2.04, val acc:  0.27\n",
            "Epoch   3/200, train loss:  2.01, train acc:  0.28, val loss:  1.97, val acc:  0.29\n",
            "Epoch   4/200, train loss:  1.94, train acc:  0.30, val loss:  1.92, val acc:  0.32\n",
            "Epoch   5/200, train loss:  1.89, train acc:  0.32, val loss:  1.87, val acc:  0.33\n",
            "Epoch   6/200, train loss:  1.84, train acc:  0.34, val loss:  1.83, val acc:  0.35\n",
            "Epoch   7/200, train loss:  1.80, train acc:  0.36, val loss:  1.79, val acc:  0.36\n",
            "Epoch   8/200, train loss:  1.76, train acc:  0.38, val loss:  1.76, val acc:  0.38\n",
            "Epoch   9/200, train loss:  1.72, train acc:  0.39, val loss:  1.73, val acc:  0.38\n",
            "Epoch  10/200, train loss:  1.68, train acc:  0.40, val loss:  1.70, val acc:  0.39\n",
            "Epoch  11/200, train loss:  1.64, train acc:  0.42, val loss:  1.69, val acc:  0.40\n",
            "Epoch  12/200, train loss:  1.61, train acc:  0.43, val loss:  1.66, val acc:  0.41\n",
            "Epoch  13/200, train loss:  1.58, train acc:  0.44, val loss:  1.66, val acc:  0.41\n",
            "Epoch  14/200, train loss:  1.55, train acc:  0.45, val loss:  1.63, val acc:  0.42\n",
            "Epoch  15/200, train loss:  1.53, train acc:  0.46, val loss:  1.66, val acc:  0.41\n",
            "Epoch  16/200, train loss:  1.50, train acc:  0.47, val loss:  1.63, val acc:  0.41\n",
            "Epoch  17/200, train loss:  1.48, train acc:  0.48, val loss:  1.64, val acc:  0.42\n",
            "Epoch  18/200, train loss:  1.46, train acc:  0.48, val loss:  1.64, val acc:  0.42\n",
            "Epoch  19/200, train loss:  1.43, train acc:  0.49, val loss:  1.65, val acc:  0.42\n",
            "Epoch  20/200, train loss:  1.41, train acc:  0.50, val loss:  1.61, val acc:  0.43\n",
            "Epoch  21/200, train loss:  1.39, train acc:  0.51, val loss:  1.62, val acc:  0.43\n",
            "Epoch  22/200, train loss:  1.37, train acc:  0.51, val loss:  1.61, val acc:  0.44\n",
            "Epoch  23/200, train loss:  1.35, train acc:  0.52, val loss:  1.67, val acc:  0.43\n",
            "Epoch  24/200, train loss:  1.33, train acc:  0.53, val loss:  1.60, val acc:  0.44\n",
            "Epoch  25/200, train loss:  1.31, train acc:  0.53, val loss:  1.63, val acc:  0.44\n",
            "Epoch  26/200, train loss:  1.29, train acc:  0.54, val loss:  1.64, val acc:  0.43\n",
            "Epoch  27/200, train loss:  1.27, train acc:  0.55, val loss:  1.61, val acc:  0.44\n",
            "Epoch  28/200, train loss:  1.26, train acc:  0.55, val loss:  1.64, val acc:  0.44\n",
            "Epoch  29/200, train loss:  1.23, train acc:  0.56, val loss:  1.72, val acc:  0.42\n",
            "Epoch  30/200, train loss:  1.22, train acc:  0.56, val loss:  1.71, val acc:  0.42\n",
            "Epoch  31/200, train loss:  1.20, train acc:  0.57, val loss:  1.66, val acc:  0.44\n",
            "Epoch  32/200, train loss:  1.18, train acc:  0.58, val loss:  1.74, val acc:  0.43\n",
            "Epoch  33/200, train loss:  1.16, train acc:  0.59, val loss:  1.71, val acc:  0.44\n",
            "Epoch  34/200, train loss:  1.15, train acc:  0.59, val loss:  1.69, val acc:  0.45\n",
            "Epoch  35/200, train loss:  1.13, train acc:  0.60, val loss:  1.96, val acc:  0.39\n",
            "Epoch  36/200, train loss:  1.11, train acc:  0.60, val loss:  1.79, val acc:  0.42\n",
            "Epoch  37/200, train loss:  1.09, train acc:  0.61, val loss:  1.85, val acc:  0.42\n",
            "Epoch  38/200, train loss:  1.08, train acc:  0.62, val loss:  1.82, val acc:  0.43\n",
            "Epoch  39/200, train loss:  1.06, train acc:  0.62, val loss:  1.74, val acc:  0.44\n",
            "Epoch  40/200, train loss:  1.05, train acc:  0.63, val loss:  2.16, val acc:  0.38\n",
            "Epoch  41/200, train loss:  1.02, train acc:  0.63, val loss:  1.82, val acc:  0.43\n",
            "Epoch  42/200, train loss:  1.01, train acc:  0.64, val loss:  2.32, val acc:  0.36\n",
            "Epoch  43/200, train loss:  1.00, train acc:  0.65, val loss:  1.74, val acc:  0.45\n",
            "Epoch  44/200, train loss:  0.98, train acc:  0.65, val loss:  1.88, val acc:  0.43\n",
            "Epoch  45/200, train loss:  0.97, train acc:  0.65, val loss:  2.08, val acc:  0.40\n",
            "Epoch  46/200, train loss:  0.95, train acc:  0.66, val loss:  1.82, val acc:  0.44\n",
            "Epoch  47/200, train loss:  0.94, train acc:  0.67, val loss:  1.89, val acc:  0.43\n",
            "Epoch  48/200, train loss:  0.92, train acc:  0.68, val loss:  1.84, val acc:  0.44\n",
            "Epoch  49/200, train loss:  0.90, train acc:  0.68, val loss:  1.85, val acc:  0.45\n",
            "Epoch  50/200, train loss:  0.88, train acc:  0.69, val loss:  2.07, val acc:  0.42\n",
            "Epoch  51/200, train loss:  0.87, train acc:  0.69, val loss:  1.92, val acc:  0.43\n",
            "Epoch  52/200, train loss:  0.86, train acc:  0.70, val loss:  2.22, val acc:  0.41\n",
            "Epoch  53/200, train loss:  0.84, train acc:  0.70, val loss:  1.91, val acc:  0.45\n",
            "Epoch  54/200, train loss:  0.83, train acc:  0.71, val loss:  2.43, val acc:  0.39\n",
            "Epoch  55/200, train loss:  0.81, train acc:  0.71, val loss:  2.15, val acc:  0.42\n",
            "Epoch  56/200, train loss:  0.80, train acc:  0.72, val loss:  2.08, val acc:  0.43\n",
            "Epoch  57/200, train loss:  0.78, train acc:  0.72, val loss:  1.99, val acc:  0.44\n",
            "Epoch  58/200, train loss:  0.77, train acc:  0.73, val loss:  2.10, val acc:  0.42\n",
            "Epoch  59/200, train loss:  0.76, train acc:  0.73, val loss:  2.49, val acc:  0.39\n",
            "Epoch  60/200, train loss:  0.74, train acc:  0.74, val loss:  2.74, val acc:  0.36\n",
            "Epoch  61/200, train loss:  0.73, train acc:  0.74, val loss:  2.18, val acc:  0.43\n",
            "Epoch  62/200, train loss:  0.71, train acc:  0.75, val loss:  2.36, val acc:  0.42\n",
            "Epoch  63/200, train loss:  0.70, train acc:  0.75, val loss:  2.19, val acc:  0.43\n",
            "Epoch  64/200, train loss:  0.69, train acc:  0.76, val loss:  2.21, val acc:  0.43\n",
            "Epoch  65/200, train loss:  0.68, train acc:  0.76, val loss:  2.20, val acc:  0.44\n",
            "Epoch  66/200, train loss:  0.66, train acc:  0.77, val loss:  2.48, val acc:  0.41\n",
            "Epoch  67/200, train loss:  0.66, train acc:  0.77, val loss:  2.32, val acc:  0.43\n",
            "Epoch  68/200, train loss:  0.64, train acc:  0.77, val loss:  2.28, val acc:  0.44\n",
            "Epoch  69/200, train loss:  0.63, train acc:  0.78, val loss:  2.40, val acc:  0.42\n",
            "Epoch  70/200, train loss:  0.61, train acc:  0.79, val loss:  2.33, val acc:  0.43\n",
            "Epoch  71/200, train loss:  0.61, train acc:  0.79, val loss:  2.76, val acc:  0.39\n",
            "Epoch  72/200, train loss:  0.59, train acc:  0.79, val loss:  2.61, val acc:  0.42\n",
            "Epoch  73/200, train loss:  0.58, train acc:  0.80, val loss:  3.56, val acc:  0.36\n",
            "Epoch  74/200, train loss:  0.57, train acc:  0.80, val loss:  2.51, val acc:  0.41\n",
            "Epoch  75/200, train loss:  0.56, train acc:  0.81, val loss:  2.80, val acc:  0.41\n",
            "Epoch  76/200, train loss:  0.55, train acc:  0.81, val loss:  2.84, val acc:  0.40\n",
            "Epoch  77/200, train loss:  0.54, train acc:  0.81, val loss:  2.62, val acc:  0.43\n",
            "Epoch  78/200, train loss:  0.53, train acc:  0.82, val loss:  2.77, val acc:  0.41\n",
            "Epoch  79/200, train loss:  0.51, train acc:  0.82, val loss:  3.18, val acc:  0.38\n",
            "Epoch  80/200, train loss:  0.51, train acc:  0.82, val loss:  2.70, val acc:  0.43\n",
            "Epoch  81/200, train loss:  0.50, train acc:  0.83, val loss:  2.95, val acc:  0.41\n",
            "Epoch  82/200, train loss:  0.49, train acc:  0.83, val loss:  2.77, val acc:  0.43\n",
            "Epoch  83/200, train loss:  0.47, train acc:  0.84, val loss:  2.94, val acc:  0.42\n",
            "Epoch  84/200, train loss:  0.47, train acc:  0.83, val loss:  3.25, val acc:  0.39\n",
            "Epoch  85/200, train loss:  0.45, train acc:  0.84, val loss:  3.19, val acc:  0.41\n",
            "Epoch  86/200, train loss:  0.45, train acc:  0.84, val loss:  3.28, val acc:  0.41\n",
            "Epoch  87/200, train loss:  0.43, train acc:  0.85, val loss:  3.37, val acc:  0.39\n",
            "Epoch  88/200, train loss:  0.42, train acc:  0.86, val loss:  2.96, val acc:  0.43\n",
            "Epoch  89/200, train loss:  0.40, train acc:  0.86, val loss:  3.02, val acc:  0.43\n",
            "Epoch  90/200, train loss:  0.41, train acc:  0.86, val loss:  2.97, val acc:  0.44\n",
            "Epoch  91/200, train loss:  0.40, train acc:  0.86, val loss:  3.23, val acc:  0.40\n",
            "Epoch  92/200, train loss:  0.39, train acc:  0.87, val loss:  3.43, val acc:  0.41\n",
            "Epoch  93/200, train loss:  0.38, train acc:  0.87, val loss:  3.12, val acc:  0.43\n",
            "Epoch  94/200, train loss:  0.37, train acc:  0.87, val loss:  3.19, val acc:  0.43\n",
            "Epoch  95/200, train loss:  0.37, train acc:  0.87, val loss:  3.45, val acc:  0.40\n",
            "Epoch  96/200, train loss:  0.36, train acc:  0.88, val loss:  3.30, val acc:  0.43\n",
            "Epoch  97/200, train loss:  0.35, train acc:  0.88, val loss:  6.10, val acc:  0.31\n",
            "Epoch  98/200, train loss:  0.36, train acc:  0.88, val loss:  3.52, val acc:  0.42\n",
            "Epoch  99/200, train loss:  0.33, train acc:  0.89, val loss:  3.44, val acc:  0.42\n",
            "Epoch 100/200, train loss:  0.33, train acc:  0.89, val loss:  4.09, val acc:  0.39\n",
            "Epoch 101/200, train loss:  0.32, train acc:  0.89, val loss:  3.55, val acc:  0.42\n",
            "Epoch 102/200, train loss:  0.32, train acc:  0.89, val loss:  4.24, val acc:  0.39\n",
            "Epoch 103/200, train loss:  0.30, train acc:  0.90, val loss:  3.83, val acc:  0.41\n",
            "Epoch 104/200, train loss:  0.31, train acc:  0.90, val loss:  3.86, val acc:  0.39\n",
            "Epoch 105/200, train loss:  0.29, train acc:  0.90, val loss:  3.71, val acc:  0.42\n",
            "Epoch 106/200, train loss:  0.28, train acc:  0.90, val loss:  4.13, val acc:  0.40\n",
            "Epoch 107/200, train loss:  0.28, train acc:  0.91, val loss:  3.99, val acc:  0.41\n",
            "Epoch 108/200, train loss:  0.27, train acc:  0.91, val loss:  4.07, val acc:  0.40\n",
            "Epoch 109/200, train loss:  0.26, train acc:  0.91, val loss:  4.59, val acc:  0.37\n",
            "Epoch 110/200, train loss:  0.26, train acc:  0.91, val loss:  3.86, val acc:  0.42\n",
            "Epoch 111/200, train loss:  0.25, train acc:  0.92, val loss:  4.18, val acc:  0.42\n",
            "Epoch 112/200, train loss:  0.24, train acc:  0.92, val loss:  3.97, val acc:  0.43\n",
            "Epoch 113/200, train loss:  0.26, train acc:  0.91, val loss:  4.46, val acc:  0.40\n",
            "Epoch 114/200, train loss:  0.25, train acc:  0.92, val loss:  3.93, val acc:  0.42\n",
            "Epoch 115/200, train loss:  0.21, train acc:  0.93, val loss:  4.04, val acc:  0.42\n",
            "Epoch 116/200, train loss:  0.21, train acc:  0.93, val loss:  4.10, val acc:  0.41\n",
            "Epoch 117/200, train loss:  0.23, train acc:  0.92, val loss:  4.51, val acc:  0.40\n",
            "Epoch 118/200, train loss:  0.23, train acc:  0.92, val loss:  4.13, val acc:  0.42\n",
            "Epoch 119/200, train loss:  0.20, train acc:  0.93, val loss:  4.08, val acc:  0.43\n",
            "Epoch 120/200, train loss:  0.21, train acc:  0.93, val loss:  4.80, val acc:  0.40\n",
            "Epoch 121/200, train loss:  0.21, train acc:  0.93, val loss:  5.57, val acc:  0.36\n",
            "Epoch 122/200, train loss:  0.21, train acc:  0.93, val loss:  4.34, val acc:  0.42\n",
            "Epoch 123/200, train loss:  0.18, train acc:  0.94, val loss:  4.32, val acc:  0.42\n",
            "Epoch 124/200, train loss:  0.19, train acc:  0.94, val loss:  4.35, val acc:  0.43\n",
            "Epoch 125/200, train loss:  0.15, train acc:  0.95, val loss:  4.54, val acc:  0.43\n",
            "Epoch 126/200, train loss:  0.18, train acc:  0.94, val loss:  4.67, val acc:  0.41\n",
            "Epoch 127/200, train loss:  0.19, train acc:  0.94, val loss:  5.95, val acc:  0.36\n",
            "Epoch 128/200, train loss:  0.18, train acc:  0.94, val loss:  4.56, val acc:  0.42\n",
            "Epoch 129/200, train loss:  0.16, train acc:  0.95, val loss:  4.62, val acc:  0.43\n",
            "Epoch 130/200, train loss:  0.12, train acc:  0.96, val loss:  4.76, val acc:  0.42\n",
            "Epoch 131/200, train loss:  0.13, train acc:  0.96, val loss:  5.42, val acc:  0.40\n",
            "Epoch 132/200, train loss:  0.17, train acc:  0.94, val loss:  4.99, val acc:  0.40\n",
            "Epoch 133/200, train loss:  0.15, train acc:  0.95, val loss:  4.79, val acc:  0.42\n",
            "Epoch 134/200, train loss:  0.15, train acc:  0.95, val loss:  4.88, val acc:  0.42\n",
            "Epoch 135/200, train loss:  0.18, train acc:  0.94, val loss:  4.80, val acc:  0.42\n",
            "Epoch 136/200, train loss:  0.15, train acc:  0.95, val loss:  4.86, val acc:  0.42\n",
            "Epoch 137/200, train loss:  0.18, train acc:  0.94, val loss:  4.77, val acc:  0.43\n",
            "Epoch 138/200, train loss:  0.18, train acc:  0.94, val loss:  5.32, val acc:  0.40\n",
            "Epoch 139/200, train loss:  0.15, train acc:  0.95, val loss:  4.89, val acc:  0.42\n",
            "Epoch 140/200, train loss:  0.12, train acc:  0.96, val loss:  5.27, val acc:  0.41\n",
            "Epoch 141/200, train loss:  0.08, train acc:  0.98, val loss:  5.03, val acc:  0.43\n",
            "Epoch 142/200, train loss:  0.08, train acc:  0.98, val loss:  5.12, val acc:  0.42\n",
            "Epoch 143/200, train loss:  0.07, train acc:  0.98, val loss:  5.24, val acc:  0.42\n",
            "Epoch 144/200, train loss:  0.05, train acc:  0.99, val loss:  5.26, val acc:  0.42\n",
            "Epoch 145/200, train loss:  0.05, train acc:  0.99, val loss:  5.23, val acc:  0.43\n",
            "Epoch 146/200, train loss:  0.04, train acc:  0.99, val loss:  5.33, val acc:  0.43\n",
            "Epoch 147/200, train loss:  0.04, train acc:  0.99, val loss:  5.41, val acc:  0.42\n",
            "Epoch 148/200, train loss:  0.03, train acc:  0.99, val loss:  5.47, val acc:  0.42\n",
            "Epoch 149/200, train loss:  0.24, train acc:  0.93, val loss:  5.47, val acc:  0.41\n",
            "Epoch 150/200, train loss:  0.30, train acc:  0.90, val loss:  6.14, val acc:  0.39\n",
            "Epoch 151/200, train loss:  0.22, train acc:  0.93, val loss:  5.78, val acc:  0.38\n",
            "Epoch 152/200, train loss:  0.15, train acc:  0.95, val loss:  5.28, val acc:  0.41\n",
            "Epoch 153/200, train loss:  0.08, train acc:  0.98, val loss:  5.38, val acc:  0.42\n",
            "Epoch 154/200, train loss:  0.06, train acc:  0.98, val loss:  5.31, val acc:  0.43\n",
            "Epoch 155/200, train loss:  0.04, train acc:  0.99, val loss:  5.43, val acc:  0.42\n",
            "Epoch 156/200, train loss:  0.04, train acc:  0.99, val loss:  6.01, val acc:  0.41\n",
            "Epoch 157/200, train loss:  0.03, train acc:  1.00, val loss:  5.48, val acc:  0.43\n",
            "Epoch 158/200, train loss:  0.02, train acc:  1.00, val loss:  5.57, val acc:  0.43\n",
            "Epoch 159/200, train loss:  0.02, train acc:  1.00, val loss:  5.65, val acc:  0.43\n",
            "Epoch 160/200, train loss:  0.02, train acc:  1.00, val loss:  5.72, val acc:  0.42\n",
            "Epoch 161/200, train loss:  0.02, train acc:  1.00, val loss:  5.75, val acc:  0.43\n",
            "Epoch 162/200, train loss:  0.02, train acc:  1.00, val loss:  5.76, val acc:  0.43\n",
            "Epoch 163/200, train loss:  0.02, train acc:  1.00, val loss:  5.82, val acc:  0.42\n",
            "Epoch 164/200, train loss:  0.02, train acc:  1.00, val loss:  5.91, val acc:  0.42\n",
            "Epoch 165/200, train loss:  0.01, train acc:  1.00, val loss:  5.92, val acc:  0.43\n",
            "Epoch 166/200, train loss:  0.01, train acc:  1.00, val loss:  5.96, val acc:  0.43\n",
            "Epoch 167/200, train loss:  0.01, train acc:  1.00, val loss:  6.02, val acc:  0.43\n",
            "Epoch 168/200, train loss:  0.01, train acc:  1.00, val loss:  6.04, val acc:  0.43\n",
            "Epoch 169/200, train loss:  0.01, train acc:  1.00, val loss:  6.09, val acc:  0.43\n",
            "Epoch 170/200, train loss:  0.35, train acc:  0.91, val loss:  7.80, val acc:  0.37\n",
            "Epoch 171/200, train loss:  0.34, train acc:  0.89, val loss:  6.63, val acc:  0.37\n",
            "Epoch 172/200, train loss:  0.21, train acc:  0.93, val loss:  5.73, val acc:  0.42\n",
            "Epoch 173/200, train loss:  0.15, train acc:  0.95, val loss:  6.01, val acc:  0.41\n",
            "Epoch 174/200, train loss:  0.12, train acc:  0.96, val loss:  5.51, val acc:  0.42\n",
            "Epoch 175/200, train loss:  0.05, train acc:  0.99, val loss:  5.71, val acc:  0.43\n",
            "Epoch 176/200, train loss:  0.02, train acc:  1.00, val loss:  5.67, val acc:  0.43\n",
            "Epoch 177/200, train loss:  0.02, train acc:  1.00, val loss:  5.77, val acc:  0.43\n",
            "Epoch 178/200, train loss:  0.01, train acc:  1.00, val loss:  5.82, val acc:  0.43\n",
            "Epoch 179/200, train loss:  0.01, train acc:  1.00, val loss:  5.88, val acc:  0.43\n",
            "Epoch 180/200, train loss:  0.01, train acc:  1.00, val loss:  5.99, val acc:  0.42\n",
            "Epoch 181/200, train loss:  0.01, train acc:  1.00, val loss:  5.99, val acc:  0.43\n",
            "Epoch 182/200, train loss:  0.01, train acc:  1.00, val loss:  6.04, val acc:  0.43\n",
            "Epoch 183/200, train loss:  0.01, train acc:  1.00, val loss:  6.07, val acc:  0.43\n",
            "Epoch 184/200, train loss:  0.01, train acc:  1.00, val loss:  6.10, val acc:  0.43\n",
            "Epoch 185/200, train loss:  0.01, train acc:  1.00, val loss:  6.16, val acc:  0.43\n",
            "Epoch 186/200, train loss:  0.01, train acc:  1.00, val loss:  6.19, val acc:  0.43\n",
            "Epoch 187/200, train loss:  0.01, train acc:  1.00, val loss:  6.22, val acc:  0.43\n",
            "Epoch 188/200, train loss:  0.01, train acc:  1.00, val loss:  6.24, val acc:  0.43\n",
            "Epoch 189/200, train loss:  0.01, train acc:  1.00, val loss:  6.28, val acc:  0.42\n",
            "Epoch 190/200, train loss:  0.01, train acc:  1.00, val loss:  6.32, val acc:  0.42\n",
            "Epoch 191/200, train loss:  0.01, train acc:  1.00, val loss:  6.34, val acc:  0.43\n",
            "Epoch 192/200, train loss:  0.01, train acc:  1.00, val loss:  6.37, val acc:  0.43\n",
            "Epoch 193/200, train loss:  0.01, train acc:  1.00, val loss:  6.41, val acc:  0.43\n",
            "Epoch 194/200, train loss:  0.01, train acc:  1.00, val loss:  6.43, val acc:  0.43\n",
            "Epoch 195/200, train loss:  0.00, train acc:  1.00, val loss:  6.46, val acc:  0.43\n",
            "Epoch 196/200, train loss:  0.00, train acc:  1.00, val loss:  6.49, val acc:  0.43\n",
            "Epoch 197/200, train loss:  0.00, train acc:  1.00, val loss:  6.50, val acc:  0.43\n",
            "Epoch 198/200, train loss:  0.00, train acc:  1.00, val loss:  6.54, val acc:  0.43\n",
            "Epoch 199/200, train loss:  0.00, train acc:  1.00, val loss:  6.56, val acc:  0.43\n",
            "\n",
            "Time total:     2934.12 sec\n",
            "Time per epoch: 14.67 sec\n"
          ]
        }
      ],
      "source": [
        "history = train(model, optimizer, loss, trainloader, testloader, 200, device='cpu') # training for 150 eopchs is enough"
      ]
    },
    {
      "cell_type": "code",
      "execution_count": null,
      "id": "73176c8a",
      "metadata": {
        "colab": {
          "base_uri": "https://localhost:8080/",
          "height": 545
        },
        "id": "73176c8a",
        "outputId": "bfa4bc49-980b-4986-f791-210facc8c5f7"
      },
      "outputs": [
        {
          "output_type": "display_data",
          "data": {
            "image/png": "[encoded data removed]",
            "text/plain": [
              "<Figure size 432x288 with 1 Axes>"
            ]
          },
          "metadata": {
            "needs_background": "light"
          }
        },
        {
          "output_type": "display_data",
          "data": {
            "image/png": "[encoded data removed]",
            "text/plain": [
              "<Figure size 432x288 with 1 Axes>"
            ]
          },
          "metadata": {
            "needs_background": "light"
          }
        }
      ],
      "source": [
        "import matplotlib.pyplot as plt\n",
        "\n",
        "acc = history['acc']\n",
        "val_acc = history['val_acc']\n",
        "loss = history['loss']\n",
        "val_loss = history['val_loss']\n",
        "epochs = range(0, 200)\n",
        "\n",
        "plt.plot(epochs, acc, 'b', label='Training acc')\n",
        "plt.plot(epochs, val_acc, 'r', label='Validation acc')\n",
        "plt.title('Training and validation accuracy')\n",
        "plt.legend()\n",
        "plt.figure()\n",
        "plt.plot(epochs, loss, 'b', label='Training loss')\n",
        "plt.plot(epochs, val_loss, 'r', label='Validation loss')\n",
        "plt.title('Training and validation loss')\n",
        "plt.legend()\n",
        "plt.show()"
      ]
    },
    {
      "cell_type": "code",
      "source": [
        "x,y = next(iter(trainloader))\n",
        "\n",
        "model.eval()\n",
        "pred = model(x)\n",
        "\n",
        "print(pred[2])\n",
        "\n",
        "plt.imshow(x[2].squeeze())\n",
        "print(y[2])\n",
        "print(max(pred[2]))"
      ],
      "metadata": {
        "colab": {
          "base_uri": "https://localhost:8080/",
          "height": 353
        },
        "id": "y2-VQ7Hh_g60",
        "outputId": "31d0a8d8-0790-4d2d-b4f3-e9961e8113e3"
      },
      "id": "y2-VQ7Hh_g60",
      "execution_count": null,
      "outputs": [
        {
          "output_type": "stream",
          "name": "stdout",
          "text": [
            "tensor([-3.1991e+01, -5.2090e+01, -2.0646e+01, -1.9740e+01, -2.7091e+01,\n",
            "        -1.6798e+01, -4.9940e+01, -1.1921e-07, -5.8219e+01, -1.7981e+01],\n",
            "       grad_fn=<SelectBackward0>)\n",
            "tensor(7)\n",
            "tensor(-1.1921e-07, grad_fn=<UnbindBackward0>)\n"
          ]
        },
        {
          "output_type": "display_data",
          "data": {
            "image/png": "[encoded data removed]",
            "text/plain": [
              "<Figure size 432x288 with 1 Axes>"
            ]
          },
          "metadata": {
            "needs_background": "light"
          }
        }
      ]
    },
    {
      "cell_type": "markdown",
      "source": [
        "CIFAR 10 CLASSES\n",
        "0. airplanes, \n",
        "1. cars, \n",
        "2. birds, \n",
        "3. cats, \n",
        "4. deer, \n",
        "5. dogs, \n",
        "6. frogs, \n",
        "7. horses, \n",
        "8. ships,\n",
        "9. trucks\n"
      ],
      "metadata": {
        "id": "WTNWsULMagel"
      },
      "id": "WTNWsULMagel"
    },
    {
      "cell_type": "markdown",
      "source": [
        "As you can see the model correctly predicted bird which agrees with the Y label. so our model is doing quite good in training data set"
      ],
      "metadata": {
        "id": "wTJZf9lmav2g"
      },
      "id": "wTJZf9lmav2g"
    },
    {
      "cell_type": "code",
      "source": [
        "# test accuracy\n",
        "print(\"the test accuracy is pretty bad though {}%\".format((history['val_acc'][-1])*100))"
      ],
      "metadata": {
        "colab": {
          "base_uri": "https://localhost:8080/"
        },
        "id": "a-KuTMP4Zw0V",
        "outputId": "a98c392d-8bbf-4609-c5b6-adc66bb33b44"
      },
      "id": "a-KuTMP4Zw0V",
      "execution_count": null,
      "outputs": [
        {
          "output_type": "stream",
          "name": "stdout",
          "text": [
            "the test accuracy is pretty bad though 42.64%\n"
          ]
        }
      ]
    },
    {
      "cell_type": "markdown",
      "source": [
        "The charts and the results indicate that we have over-fit our model. using a better optimizer adding more layers would help this model. "
      ],
      "metadata": {
        "id": "ZXHkeSnCbdIW"
      },
      "id": "ZXHkeSnCbdIW"
    }
  ],
  "metadata": {
    "kernelspec": {
      "display_name": "Python [conda env:pytorch_gpu] *",
      "language": "python",
      "name": "conda-env-pytorch_gpu-py"
    },
    "language_info": {
      "codemirror_mode": {
        "name": "ipython",
        "version": 3
      },
      "file_extension": ".py",
      "mimetype": "text/x-python",
      "name": "python",
      "nbconvert_exporter": "python",
      "pygments_lexer": "ipython3",
      "version": "3.8.12"
    },
    "colab": {
      "name": "CIFAR10.ipynb",
      "provenance": [],
      "collapsed_sections": []
    },
    "widgets": {
      "application/vnd.jupyter.widget-state+json": {
        "71f6220f6e7b40869ca5a8bdc9d410ba": {
          "model_module": "@jupyter-widgets/controls",
          "model_name": "HBoxModel",
          "model_module_version": "1.5.0",
          "state": {
            "_view_name": "HBoxView",
            "_dom_classes": [],
            "_model_name": "HBoxModel",
            "_view_module": "@jupyter-widgets/controls",
            "_model_module_version": "1.5.0",
            "_view_count": null,
            "_view_module_version": "1.5.0",
            "box_style": "",
            "layout": "IPY_MODEL_5d308f59d21045e49677aea74f8effc2",
            "_model_module": "@jupyter-widgets/controls",
            "children": [
              "IPY_MODEL_56a315e6cbe044c3bc432bacd8c442a2",
              "IPY_MODEL_8faf92b06999445abfbdcec00c2ebd1c",
              "IPY_MODEL_e3144950f2fa4ce6a2358a423157fabd"
            ]
          }
        },
        "5d308f59d21045e49677aea74f8effc2": {
          "model_module": "@jupyter-widgets/base",
          "model_name": "LayoutModel",
          "model_module_version": "1.2.0",
          "state": {
            "_view_name": "LayoutView",
            "grid_template_rows": null,
            "right": null,
            "justify_content": null,
            "_view_module": "@jupyter-widgets/base",
            "overflow": null,
            "_model_module_version": "1.2.0",
            "_view_count": null,
            "flex_flow": null,
            "width": null,
            "min_width": null,
            "border": null,
            "align_items": null,
            "bottom": null,
            "_model_module": "@jupyter-widgets/base",
            "top": null,
            "grid_column": null,
            "overflow_y": null,
            "overflow_x": null,
            "grid_auto_flow": null,
            "grid_area": null,
            "grid_template_columns": null,
            "flex": null,
            "_model_name": "LayoutModel",
            "justify_items": null,
            "grid_row": null,
            "max_height": null,
            "align_content": null,
            "visibility": null,
            "align_self": null,
            "height": null,
            "min_height": null,
            "padding": null,
            "grid_auto_rows": null,
            "grid_gap": null,
            "max_width": null,
            "order": null,
            "_view_module_version": "1.2.0",
            "grid_template_areas": null,
            "object_position": null,
            "object_fit": null,
            "grid_auto_columns": null,
            "margin": null,
            "display": null,
            "left": null
          }
        },
        "56a315e6cbe044c3bc432bacd8c442a2": {
          "model_module": "@jupyter-widgets/controls",
          "model_name": "HTMLModel",
          "model_module_version": "1.5.0",
          "state": {
            "_view_name": "HTMLView",
            "style": "IPY_MODEL_c530b49899494b73ae85328077ad0665",
            "_dom_classes": [],
            "description": "",
            "_model_name": "HTMLModel",
            "placeholder": "​",
            "_view_module": "@jupyter-widgets/controls",
            "_model_module_version": "1.5.0",
            "value": "",
            "_view_count": null,
            "_view_module_version": "1.5.0",
            "description_tooltip": null,
            "_model_module": "@jupyter-widgets/controls",
            "layout": "IPY_MODEL_d1e720df327b45edaf2baf225bc79072"
          }
        },
        "8faf92b06999445abfbdcec00c2ebd1c": {
          "model_module": "@jupyter-widgets/controls",
          "model_name": "FloatProgressModel",
          "model_module_version": "1.5.0",
          "state": {
            "_view_name": "ProgressView",
            "style": "IPY_MODEL_01b1fe3c6c41442f993c48c7b01c0564",
            "_dom_classes": [],
            "description": "",
            "_model_name": "FloatProgressModel",
            "bar_style": "success",
            "max": 170498071,
            "_view_module": "@jupyter-widgets/controls",
            "_model_module_version": "1.5.0",
            "value": 170498071,
            "_view_count": null,
            "_view_module_version": "1.5.0",
            "orientation": "horizontal",
            "min": 0,
            "description_tooltip": null,
            "_model_module": "@jupyter-widgets/controls",
            "layout": "IPY_MODEL_fad8916799374eedba9144135bd699bc"
          }
        },
        "e3144950f2fa4ce6a2358a423157fabd": {
          "model_module": "@jupyter-widgets/controls",
          "model_name": "HTMLModel",
          "model_module_version": "1.5.0",
          "state": {
            "_view_name": "HTMLView",
            "style": "IPY_MODEL_1bbe9e262d19435ca16216ec4a394a0e",
            "_dom_classes": [],
            "description": "",
            "_model_name": "HTMLModel",
            "placeholder": "​",
            "_view_module": "@jupyter-widgets/controls",
            "_model_module_version": "1.5.0",
            "value": " 170499072/? [00:04&lt;00:00, 45133140.53it/s]",
            "_view_count": null,
            "_view_module_version": "1.5.0",
            "description_tooltip": null,
            "_model_module": "@jupyter-widgets/controls",
            "layout": "IPY_MODEL_ee346de883ff46979ebca084b3b00bce"
          }
        },
        "c530b49899494b73ae85328077ad0665": {
          "model_module": "@jupyter-widgets/controls",
          "model_name": "DescriptionStyleModel",
          "model_module_version": "1.5.0",
          "state": {
            "_view_name": "StyleView",
            "_model_name": "DescriptionStyleModel",
            "description_width": "",
            "_view_module": "@jupyter-widgets/base",
            "_model_module_version": "1.5.0",
            "_view_count": null,
            "_view_module_version": "1.2.0",
            "_model_module": "@jupyter-widgets/controls"
          }
        },
        "d1e720df327b45edaf2baf225bc79072": {
          "model_module": "@jupyter-widgets/base",
          "model_name": "LayoutModel",
          "model_module_version": "1.2.0",
          "state": {
            "_view_name": "LayoutView",
            "grid_template_rows": null,
            "right": null,
            "justify_content": null,
            "_view_module": "@jupyter-widgets/base",
            "overflow": null,
            "_model_module_version": "1.2.0",
            "_view_count": null,
            "flex_flow": null,
            "width": null,
            "min_width": null,
            "border": null,
            "align_items": null,
            "bottom": null,
            "_model_module": "@jupyter-widgets/base",
            "top": null,
            "grid_column": null,
            "overflow_y": null,
            "overflow_x": null,
            "grid_auto_flow": null,
            "grid_area": null,
            "grid_template_columns": null,
            "flex": null,
            "_model_name": "LayoutModel",
            "justify_items": null,
            "grid_row": null,
            "max_height": null,
            "align_content": null,
            "visibility": null,
            "align_self": null,
            "height": null,
            "min_height": null,
            "padding": null,
            "grid_auto_rows": null,
            "grid_gap": null,
            "max_width": null,
            "order": null,
            "_view_module_version": "1.2.0",
            "grid_template_areas": null,
            "object_position": null,
            "object_fit": null,
            "grid_auto_columns": null,
            "margin": null,
            "display": null,
            "left": null
          }
        },
        "01b1fe3c6c41442f993c48c7b01c0564": {
          "model_module": "@jupyter-widgets/controls",
          "model_name": "ProgressStyleModel",
          "model_module_version": "1.5.0",
          "state": {
            "_view_name": "StyleView",
            "_model_name": "ProgressStyleModel",
            "description_width": "",
            "_view_module": "@jupyter-widgets/base",
            "_model_module_version": "1.5.0",
            "_view_count": null,
            "_view_module_version": "1.2.0",
            "bar_color": null,
            "_model_module": "@jupyter-widgets/controls"
          }
        },
        "fad8916799374eedba9144135bd699bc": {
          "model_module": "@jupyter-widgets/base",
          "model_name": "LayoutModel",
          "model_module_version": "1.2.0",
          "state": {
            "_view_name": "LayoutView",
            "grid_template_rows": null,
            "right": null,
            "justify_content": null,
            "_view_module": "@jupyter-widgets/base",
            "overflow": null,
            "_model_module_version": "1.2.0",
            "_view_count": null,
            "flex_flow": null,
            "width": null,
            "min_width": null,
            "border": null,
            "align_items": null,
            "bottom": null,
            "_model_module": "@jupyter-widgets/base",
            "top": null,
            "grid_column": null,
            "overflow_y": null,
            "overflow_x": null,
            "grid_auto_flow": null,
            "grid_area": null,
            "grid_template_columns": null,
            "flex": null,
            "_model_name": "LayoutModel",
            "justify_items": null,
            "grid_row": null,
            "max_height": null,
            "align_content": null,
            "visibility": null,
            "align_self": null,
            "height": null,
            "min_height": null,
            "padding": null,
            "grid_auto_rows": null,
            "grid_gap": null,
            "max_width": null,
            "order": null,
            "_view_module_version": "1.2.0",
            "grid_template_areas": null,
            "object_position": null,
            "object_fit": null,
            "grid_auto_columns": null,
            "margin": null,
            "display": null,
            "left": null
          }
        },
        "1bbe9e262d19435ca16216ec4a394a0e": {
          "model_module": "@jupyter-widgets/controls",
          "model_name": "DescriptionStyleModel",
          "model_module_version": "1.5.0",
          "state": {
            "_view_name": "StyleView",
            "_model_name": "DescriptionStyleModel",
            "description_width": "",
            "_view_module": "@jupyter-widgets/base",
            "_model_module_version": "1.5.0",
            "_view_count": null,
            "_view_module_version": "1.2.0",
            "_model_module": "@jupyter-widgets/controls"
          }
        },
        "ee346de883ff46979ebca084b3b00bce": {
          "model_module": "@jupyter-widgets/base",
          "model_name": "LayoutModel",
          "model_module_version": "1.2.0",
          "state": {
            "_view_name": "LayoutView",
            "grid_template_rows": null,
            "right": null,
            "justify_content": null,
            "_view_module": "@jupyter-widgets/base",
            "overflow": null,
            "_model_module_version": "1.2.0",
            "_view_count": null,
            "flex_flow": null,
            "width": null,
            "min_width": null,
            "border": null,
            "align_items": null,
            "bottom": null,
            "_model_module": "@jupyter-widgets/base",
            "top": null,
            "grid_column": null,
            "overflow_y": null,
            "overflow_x": null,
            "grid_auto_flow": null,
            "grid_area": null,
            "grid_template_columns": null,
            "flex": null,
            "_model_name": "LayoutModel",
            "justify_items": null,
            "grid_row": null,
            "max_height": null,
            "align_content": null,
            "visibility": null,
            "align_self": null,
            "height": null,
            "min_height": null,
            "padding": null,
            "grid_auto_rows": null,
            "grid_gap": null,
            "max_width": null,
            "order": null,
            "_view_module_version": "1.2.0",
            "grid_template_areas": null,
            "object_position": null,
            "object_fit": null,
            "grid_auto_columns": null,
            "margin": null,
            "display": null,
            "left": null
          }
        }
      }
    }
  },
  "nbformat": 4,
  "nbformat_minor": 5
}